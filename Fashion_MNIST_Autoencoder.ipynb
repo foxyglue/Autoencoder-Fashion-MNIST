{
  "cells": [
    {
      "cell_type": "markdown",
      "metadata": {
        "id": "nXBlrLUTZoGD"
      },
      "source": [
        "# Autoencoder\n",
        "\n",
        "Dimension Reduction dari dua kelas citra dengan menggunakan algoritma Autoencoder\n",
        "secara optimal"
      ]
    },
    {
      "cell_type": "markdown",
      "metadata": {
        "id": "dp_PlZt-ZoGD"
      },
      "source": [
        "## a\n",
        "\n",
        "Lakukan loading dan scaling data serta tampilkan contoh data yang digunakan. Kemudian pisahkan dataset menjadi 80% training set, 10% validation set dan 10% test set."
      ]
    },
    {
      "cell_type": "code",
      "execution_count": null,
      "metadata": {
        "id": "rFqupGQcZoGD"
      },
      "outputs": [],
      "source": [
        "import idx2numpy\n",
        "import numpy as np\n",
        "\n",
        "# PASTIKAN BAHWA TRAINING DAN TESTING DATA MAUPUN LABEL BERADA DI FOLDER YANG SAMA\n",
        "\n",
        "train_file = 'train-images-idx3-ubyte'\n",
        "test_file = 't10k-images-idx3-ubyte'\n",
        "train_label = 'train-labels-idx1-ubyte'\n",
        "test_label = 't10k-labels-idx1-ubyte'"
      ]
    },
    {
      "cell_type": "code",
      "execution_count": null,
      "metadata": {
        "colab": {
          "base_uri": "https://localhost:8080/"
        },
        "id": "EQO7FxsrZoGD",
        "outputId": "daf52703-92e4-491b-b288-5b393fcddd3c"
      },
      "outputs": [
        {
          "name": "stdout",
          "output_type": "stream",
          "text": [
            "x_train shape: (12000, 28, 28)\n",
            "y_train shape: (12000,)\n",
            "x_test shape: (2000, 28, 28)\n",
            "y_test shape: (2000,)\n"
          ]
        }
      ],
      "source": [
        "# Convert files to numpy arrays\n",
        "x_train = idx2numpy.convert_from_file(train_file)\n",
        "y_train = idx2numpy.convert_from_file(train_label)\n",
        "x_test = idx2numpy.convert_from_file(test_file)\n",
        "y_test = idx2numpy.convert_from_file(test_label)\n",
        "\n",
        "# Filter the data to include only labels 0 and 1\n",
        "train_filter = (y_train == 0) | (y_train == 1)\n",
        "test_filter = (y_test == 0) | (y_test == 1)\n",
        "\n",
        "x_train = x_train[train_filter]\n",
        "y_train = y_train[train_filter]\n",
        "x_test = x_test[test_filter]\n",
        "y_test = y_test[test_filter]\n",
        "\n",
        "# Normalize the images\n",
        "x_train = x_train.astype('float32') / 255.0 # 255 is the maximum value of a pixel\n",
        "x_test = x_test.astype('float32') / 255.0 # membantu algoritma konvergen lebih cepat dan meningkatkan stabilitas numerik\n",
        "\n",
        "# Check the shapes of the data\n",
        "print(f'x_train shape: {x_train.shape}')\n",
        "print(f'y_train shape: {y_train.shape}')\n",
        "print(f'x_test shape: {x_test.shape}')\n",
        "print(f'y_test shape: {y_test.shape}')"
      ]
    },
    {
      "cell_type": "code",
      "execution_count": null,
      "metadata": {
        "colab": {
          "base_uri": "https://localhost:8080/"
        },
        "id": "FpJ7jCrCZoGE",
        "outputId": "911f2add-94c9-45a2-fac7-876bfeefe630"
      },
      "outputs": [
        {
          "name": "stdout",
          "output_type": "stream",
          "text": [
            "New x_train shape: (9600, 28, 28)\n",
            "New y_train shape: (9600,)\n",
            "x_val shape: (1200, 28, 28)\n",
            "y_val shape: (1200,)\n",
            "x_test shape: (1200, 28, 28)\n",
            "y_test shape: (1200,)\n"
          ]
        }
      ],
      "source": [
        "from sklearn.model_selection import train_test_split\n",
        "import matplotlib.pyplot as plt\n",
        "\n",
        "# Split data into train, validation, and test sets\n",
        "x_train, x_val, y_train, y_val = train_test_split(x_train, y_train, test_size=0.2, random_state=42)\n",
        "x_val, x_test, y_val, y_test = train_test_split(x_val, y_val, test_size=0.5, random_state=42)\n",
        "\n",
        "print(f'New x_train shape: {x_train.shape}')\n",
        "print(f'New y_train shape: {y_train.shape}')\n",
        "print(f'x_val shape: {x_val.shape}')\n",
        "print(f'y_val shape: {y_val.shape}')\n",
        "print(f'x_test shape: {x_test.shape}')\n",
        "print(f'y_test shape: {y_test.shape}')"
      ]
    },
    {
      "cell_type": "code",
      "execution_count": null,
      "metadata": {
        "id": "0WmARG04ZoGE",
        "outputId": "907f90c6-4a8f-4480-bddf-411b77060c3c"
      },
      "outputs": [
        {
          "data": {
            "image/png": "[encoded data removed]",
            "text/plain": [
              "<Figure size 2000x200 with 10 Axes>"
            ]
          },
          "metadata": {},
          "output_type": "display_data"
        }
      ],
      "source": [
        "# Display some example images\n",
        "fig, axes = plt.subplots(1, 10, figsize=(20, 2))\n",
        "for i in range(10):\n",
        "    ax = axes[i]\n",
        "    ax.imshow(x_train[i], cmap='gray')\n",
        "    ax.set_title(f'Label: {y_train[i]}')\n",
        "    ax.axis('off')\n",
        "plt.show()"
      ]
    },
    {
      "cell_type": "markdown",
      "metadata": {
        "id": "3enkVBNbZoGF"
      },
      "source": [
        "## b\n",
        "\n",
        "Buatlah arsitektur baseline untuk Dimension Reduction dari dimensi 784 (28x28) menjadi dimensi 128, sesuai dengan gambar arsitektur Autoencoder berikut ini.\n",
        "\n",
        "Lakukan evaluasi kualitas citra hasil decoder menggunakan Structural Similarity Index (SSIM) pada data test."
      ]
    },
    {
      "cell_type": "markdown",
      "metadata": {
        "id": "bnx2xOddZoGF"
      },
      "source": [
        "![alt text](image-3.png)"
      ]
    },
    {
      "cell_type": "code",
      "execution_count": null,
      "metadata": {
        "id": "zz6jSlePZoGF"
      },
      "outputs": [],
      "source": [
        "from tensorflow.keras.layers import Input, Conv2D, MaxPooling2D, Flatten, Dense, Reshape, UpSampling2D, Conv2DTranspose, Dropout\n",
        "import tensorflow as tf\n",
        "from tensorflow.keras.models import Model\n",
        "from skimage.metrics import structural_similarity as ssim"
      ]
    },
    {
      "cell_type": "code",
      "execution_count": null,
      "metadata": {
        "id": "6OwBZthcZoGG",
        "outputId": "202ccc24-1eb3-41a7-f84a-2e41e489c6bc"
      },
      "outputs": [
        {
          "name": "stdout",
          "output_type": "stream",
          "text": [
            "Epoch 1/50\n",
            "\u001b[1m75/75\u001b[0m \u001b[32m━━━━━━━━━━━━━━━━━━━━\u001b[0m\u001b[37m\u001b[0m \u001b[1m6s\u001b[0m 61ms/step - loss: 0.4672 - val_loss: 0.3017\n",
            "Epoch 2/50\n",
            "\u001b[1m75/75\u001b[0m \u001b[32m━━━━━━━━━━━━━━━━━━━━\u001b[0m\u001b[37m\u001b[0m \u001b[1m4s\u001b[0m 57ms/step - loss: 0.2954 - val_loss: 0.2761\n",
            "Epoch 3/50\n",
            "\u001b[1m75/75\u001b[0m \u001b[32m━━━━━━━━━━━━━━━━━━━━\u001b[0m\u001b[37m\u001b[0m \u001b[1m5s\u001b[0m 60ms/step - loss: 0.2719 - val_loss: 0.2661\n",
            "Epoch 4/50\n",
            "\u001b[1m75/75\u001b[0m \u001b[32m━━━━━━━━━━━━━━━━━━━━\u001b[0m\u001b[37m\u001b[0m \u001b[1m4s\u001b[0m 55ms/step - loss: 0.2636 - val_loss: 0.2607\n",
            "Epoch 5/50\n",
            "\u001b[1m75/75\u001b[0m \u001b[32m━━━━━━━━━━━━━━━━━━━━\u001b[0m\u001b[37m\u001b[0m \u001b[1m4s\u001b[0m 55ms/step - loss: 0.2584 - val_loss: 0.2570\n",
            "Epoch 6/50\n",
            "\u001b[1m75/75\u001b[0m \u001b[32m━━━━━━━━━━━━━━━━━━━━\u001b[0m\u001b[37m\u001b[0m \u001b[1m4s\u001b[0m 60ms/step - loss: 0.2549 - val_loss: 0.2549\n",
            "Epoch 7/50\n",
            "\u001b[1m75/75\u001b[0m \u001b[32m━━━━━━━━━━━━━━━━━━━━\u001b[0m\u001b[37m\u001b[0m \u001b[1m4s\u001b[0m 58ms/step - loss: 0.2532 - val_loss: 0.2525\n",
            "Epoch 8/50\n",
            "\u001b[1m75/75\u001b[0m \u001b[32m━━━━━━━━━━━━━━━━━━━━\u001b[0m\u001b[37m\u001b[0m \u001b[1m4s\u001b[0m 57ms/step - loss: 0.2497 - val_loss: 0.2512\n",
            "Epoch 9/50\n",
            "\u001b[1m75/75\u001b[0m \u001b[32m━━━━━━━━━━━━━━━━━━━━\u001b[0m\u001b[37m\u001b[0m \u001b[1m5s\u001b[0m 62ms/step - loss: 0.2484 - val_loss: 0.2505\n",
            "Epoch 10/50\n",
            "\u001b[1m75/75\u001b[0m \u001b[32m━━━━━━━━━━━━━━━━━━━━\u001b[0m\u001b[37m\u001b[0m \u001b[1m5s\u001b[0m 65ms/step - loss: 0.2489 - val_loss: 0.2496\n",
            "Epoch 11/50\n",
            "\u001b[1m75/75\u001b[0m \u001b[32m━━━━━━━━━━━━━━━━━━━━\u001b[0m\u001b[37m\u001b[0m \u001b[1m5s\u001b[0m 64ms/step - loss: 0.2473 - val_loss: 0.2485\n",
            "Epoch 12/50\n",
            "\u001b[1m75/75\u001b[0m \u001b[32m━━━━━━━━━━━━━━━━━━━━\u001b[0m\u001b[37m\u001b[0m \u001b[1m5s\u001b[0m 60ms/step - loss: 0.2479 - val_loss: 0.2486\n",
            "Epoch 13/50\n",
            "\u001b[1m75/75\u001b[0m \u001b[32m━━━━━━━━━━━━━━━━━━━━\u001b[0m\u001b[37m\u001b[0m \u001b[1m4s\u001b[0m 57ms/step - loss: 0.2460 - val_loss: 0.2472\n",
            "Epoch 14/50\n",
            "\u001b[1m75/75\u001b[0m \u001b[32m━━━━━━━━━━━━━━━━━━━━\u001b[0m\u001b[37m\u001b[0m \u001b[1m4s\u001b[0m 57ms/step - loss: 0.2463 - val_loss: 0.2470\n",
            "Epoch 15/50\n",
            "\u001b[1m75/75\u001b[0m \u001b[32m━━━━━━━━━━━━━━━━━━━━\u001b[0m\u001b[37m\u001b[0m \u001b[1m4s\u001b[0m 56ms/step - loss: 0.2451 - val_loss: 0.2466\n",
            "Epoch 16/50\n",
            "\u001b[1m75/75\u001b[0m \u001b[32m━━━━━━━━━━━━━━━━━━━━\u001b[0m\u001b[37m\u001b[0m \u001b[1m5s\u001b[0m 61ms/step - loss: 0.2437 - val_loss: 0.2460\n",
            "Epoch 17/50\n",
            "\u001b[1m75/75\u001b[0m \u001b[32m━━━━━━━━━━━━━━━━━━━━\u001b[0m\u001b[37m\u001b[0m \u001b[1m5s\u001b[0m 63ms/step - loss: 0.2440 - val_loss: 0.2460\n",
            "Epoch 18/50\n",
            "\u001b[1m75/75\u001b[0m \u001b[32m━━━━━━━━━━━━━━━━━━━━\u001b[0m\u001b[37m\u001b[0m \u001b[1m5s\u001b[0m 62ms/step - loss: 0.2431 - val_loss: 0.2455\n",
            "Epoch 19/50\n",
            "\u001b[1m75/75\u001b[0m \u001b[32m━━━━━━━━━━━━━━━━━━━━\u001b[0m\u001b[37m\u001b[0m \u001b[1m5s\u001b[0m 62ms/step - loss: 0.2429 - val_loss: 0.2452\n",
            "Epoch 20/50\n",
            "\u001b[1m75/75\u001b[0m \u001b[32m━━━━━━━━━━━━━━━━━━━━\u001b[0m\u001b[37m\u001b[0m \u001b[1m5s\u001b[0m 63ms/step - loss: 0.2428 - val_loss: 0.2452\n",
            "Epoch 21/50\n",
            "\u001b[1m75/75\u001b[0m \u001b[32m━━━━━━━━━━━━━━━━━━━━\u001b[0m\u001b[37m\u001b[0m \u001b[1m5s\u001b[0m 64ms/step - loss: 0.2423 - val_loss: 0.2448\n",
            "Epoch 22/50\n",
            "\u001b[1m75/75\u001b[0m \u001b[32m━━━━━━━━━━━━━━━━━━━━\u001b[0m\u001b[37m\u001b[0m \u001b[1m5s\u001b[0m 62ms/step - loss: 0.2416 - val_loss: 0.2443\n",
            "Epoch 23/50\n",
            "\u001b[1m75/75\u001b[0m \u001b[32m━━━━━━━━━━━━━━━━━━━━\u001b[0m\u001b[37m\u001b[0m \u001b[1m4s\u001b[0m 59ms/step - loss: 0.2416 - val_loss: 0.2443\n",
            "Epoch 24/50\n",
            "\u001b[1m75/75\u001b[0m \u001b[32m━━━━━━━━━━━━━━━━━━━━\u001b[0m\u001b[37m\u001b[0m \u001b[1m5s\u001b[0m 61ms/step - loss: 0.2414 - val_loss: 0.2441\n",
            "Epoch 25/50\n",
            "\u001b[1m75/75\u001b[0m \u001b[32m━━━━━━━━━━━━━━━━━━━━\u001b[0m\u001b[37m\u001b[0m \u001b[1m4s\u001b[0m 58ms/step - loss: 0.2419 - val_loss: 0.2440\n",
            "Epoch 26/50\n",
            "\u001b[1m75/75\u001b[0m \u001b[32m━━━━━━━━━━━━━━━━━━━━\u001b[0m\u001b[37m\u001b[0m \u001b[1m4s\u001b[0m 59ms/step - loss: 0.2441 - val_loss: 0.2439\n",
            "Epoch 27/50\n",
            "\u001b[1m75/75\u001b[0m \u001b[32m━━━━━━━━━━━━━━━━━━━━\u001b[0m\u001b[37m\u001b[0m \u001b[1m5s\u001b[0m 62ms/step - loss: 0.2424 - val_loss: 0.2445\n",
            "Epoch 28/50\n",
            "\u001b[1m75/75\u001b[0m \u001b[32m━━━━━━━━━━━━━━━━━━━━\u001b[0m\u001b[37m\u001b[0m \u001b[1m5s\u001b[0m 63ms/step - loss: 0.2413 - val_loss: 0.2435\n",
            "Epoch 29/50\n",
            "\u001b[1m75/75\u001b[0m \u001b[32m━━━━━━━━━━━━━━━━━━━━\u001b[0m\u001b[37m\u001b[0m \u001b[1m4s\u001b[0m 59ms/step - loss: 0.2403 - val_loss: 0.2434\n",
            "Epoch 30/50\n",
            "\u001b[1m75/75\u001b[0m \u001b[32m━━━━━━━━━━━━━━━━━━━━\u001b[0m\u001b[37m\u001b[0m \u001b[1m5s\u001b[0m 61ms/step - loss: 0.2412 - val_loss: 0.2435\n",
            "Epoch 31/50\n",
            "\u001b[1m75/75\u001b[0m \u001b[32m━━━━━━━━━━━━━━━━━━━━\u001b[0m\u001b[37m\u001b[0m \u001b[1m5s\u001b[0m 62ms/step - loss: 0.2415 - val_loss: 0.2432\n",
            "Epoch 32/50\n",
            "\u001b[1m75/75\u001b[0m \u001b[32m━━━━━━━━━━━━━━━━━━━━\u001b[0m\u001b[37m\u001b[0m \u001b[1m5s\u001b[0m 60ms/step - loss: 0.2413 - val_loss: 0.2430\n",
            "Epoch 33/50\n",
            "\u001b[1m75/75\u001b[0m \u001b[32m━━━━━━━━━━━━━━━━━━━━\u001b[0m\u001b[37m\u001b[0m \u001b[1m5s\u001b[0m 61ms/step - loss: 0.2402 - val_loss: 0.2430\n",
            "Epoch 34/50\n",
            "\u001b[1m75/75\u001b[0m \u001b[32m━━━━━━━━━━━━━━━━━━━━\u001b[0m\u001b[37m\u001b[0m \u001b[1m5s\u001b[0m 62ms/step - loss: 0.2411 - val_loss: 0.2429\n",
            "Epoch 35/50\n",
            "\u001b[1m75/75\u001b[0m \u001b[32m━━━━━━━━━━━━━━━━━━━━\u001b[0m\u001b[37m\u001b[0m \u001b[1m4s\u001b[0m 59ms/step - loss: 0.2404 - val_loss: 0.2428\n",
            "Epoch 36/50\n",
            "\u001b[1m75/75\u001b[0m \u001b[32m━━━━━━━━━━━━━━━━━━━━\u001b[0m\u001b[37m\u001b[0m \u001b[1m4s\u001b[0m 57ms/step - loss: 0.2396 - val_loss: 0.2428\n",
            "Epoch 37/50\n",
            "\u001b[1m75/75\u001b[0m \u001b[32m━━━━━━━━━━━━━━━━━━━━\u001b[0m\u001b[37m\u001b[0m \u001b[1m5s\u001b[0m 63ms/step - loss: 0.2410 - val_loss: 0.2426\n",
            "Epoch 38/50\n",
            "\u001b[1m75/75\u001b[0m \u001b[32m━━━━━━━━━━━━━━━━━━━━\u001b[0m\u001b[37m\u001b[0m \u001b[1m4s\u001b[0m 60ms/step - loss: 0.2410 - val_loss: 0.2426\n",
            "Epoch 39/50\n",
            "\u001b[1m75/75\u001b[0m \u001b[32m━━━━━━━━━━━━━━━━━━━━\u001b[0m\u001b[37m\u001b[0m \u001b[1m4s\u001b[0m 57ms/step - loss: 0.2391 - val_loss: 0.2426\n",
            "Epoch 40/50\n",
            "\u001b[1m75/75\u001b[0m \u001b[32m━━━━━━━━━━━━━━━━━━━━\u001b[0m\u001b[37m\u001b[0m \u001b[1m4s\u001b[0m 59ms/step - loss: 0.2395 - val_loss: 0.2425\n",
            "Epoch 41/50\n",
            "\u001b[1m75/75\u001b[0m \u001b[32m━━━━━━━━━━━━━━━━━━━━\u001b[0m\u001b[37m\u001b[0m \u001b[1m5s\u001b[0m 63ms/step - loss: 0.2383 - val_loss: 0.2424\n",
            "Epoch 42/50\n",
            "\u001b[1m75/75\u001b[0m \u001b[32m━━━━━━━━━━━━━━━━━━━━\u001b[0m\u001b[37m\u001b[0m \u001b[1m5s\u001b[0m 62ms/step - loss: 0.2400 - val_loss: 0.2424\n",
            "Epoch 43/50\n",
            "\u001b[1m75/75\u001b[0m \u001b[32m━━━━━━━━━━━━━━━━━━━━\u001b[0m\u001b[37m\u001b[0m \u001b[1m4s\u001b[0m 58ms/step - loss: 0.2406 - val_loss: 0.2423\n",
            "Epoch 44/50\n",
            "\u001b[1m75/75\u001b[0m \u001b[32m━━━━━━━━━━━━━━━━━━━━\u001b[0m\u001b[37m\u001b[0m \u001b[1m4s\u001b[0m 56ms/step - loss: 0.2410 - val_loss: 0.2426\n",
            "Epoch 45/50\n",
            "\u001b[1m75/75\u001b[0m \u001b[32m━━━━━━━━━━━━━━━━━━━━\u001b[0m\u001b[37m\u001b[0m \u001b[1m4s\u001b[0m 58ms/step - loss: 0.2394 - val_loss: 0.2426\n",
            "Epoch 46/50\n",
            "\u001b[1m75/75\u001b[0m \u001b[32m━━━━━━━━━━━━━━━━━━━━\u001b[0m\u001b[37m\u001b[0m \u001b[1m4s\u001b[0m 58ms/step - loss: 0.2403 - val_loss: 0.2422\n",
            "Epoch 47/50\n",
            "\u001b[1m75/75\u001b[0m \u001b[32m━━━━━━━━━━━━━━━━━━━━\u001b[0m\u001b[37m\u001b[0m \u001b[1m4s\u001b[0m 58ms/step - loss: 0.2392 - val_loss: 0.2421\n",
            "Epoch 48/50\n",
            "\u001b[1m75/75\u001b[0m \u001b[32m━━━━━━━━━━━━━━━━━━━━\u001b[0m\u001b[37m\u001b[0m \u001b[1m5s\u001b[0m 61ms/step - loss: 0.2392 - val_loss: 0.2421\n",
            "Epoch 49/50\n",
            "\u001b[1m75/75\u001b[0m \u001b[32m━━━━━━━━━━━━━━━━━━━━\u001b[0m\u001b[37m\u001b[0m \u001b[1m4s\u001b[0m 59ms/step - loss: 0.2395 - val_loss: 0.2422\n",
            "Epoch 50/50\n",
            "\u001b[1m75/75\u001b[0m \u001b[32m━━━━━━━━━━━━━━━━━━━━\u001b[0m\u001b[37m\u001b[0m \u001b[1m4s\u001b[0m 58ms/step - loss: 0.2381 - val_loss: 0.2420\n",
            "\u001b[1m38/38\u001b[0m \u001b[32m━━━━━━━━━━━━━━━━━━━━\u001b[0m\u001b[37m\u001b[0m \u001b[1m0s\u001b[0m 8ms/step\n"
          ]
        }
      ],
      "source": [
        "# Encoder\n",
        "input_img = Input(shape=(28, 28, 1))\n",
        "x = Conv2D(32, (3, 3), activation='relu', padding='same')(input_img)\n",
        "x = MaxPooling2D((2, 2), padding='same')(x)\n",
        "x = Flatten()(x)\n",
        "encoded = Dense(128, activation='relu')(x)\n",
        "\n",
        "# Decoder\n",
        "x = Dense(14 * 14 * 32, activation='relu')(encoded)\n",
        "x = Reshape((14, 14, 32))(x)\n",
        "x = UpSampling2D((2, 2))(x)\n",
        "x = Conv2D(32, (3, 3), activation='relu', padding='same')(x)\n",
        "decoded = Conv2D(1, (3, 3), activation='sigmoid', padding='same')(x)\n",
        "\n",
        "# Autoencoder Model\n",
        "autoencoder = Model(input_img, decoded)\n",
        "autoencoder.compile(optimizer='adam', loss='binary_crossentropy')\n",
        "\n",
        "# Train the model\n",
        "history = autoencoder.fit(x_train, x_train,\n",
        "                          epochs=50,\n",
        "                          batch_size=128,\n",
        "                          shuffle=True,\n",
        "                          validation_data=(x_val, x_val))\n",
        "\n",
        "# Evaluate the model on test set\n",
        "decoded_imgs = autoencoder.predict(x_test)"
      ]
    },
    {
      "cell_type": "code",
      "execution_count": null,
      "metadata": {
        "id": "7SYNG_sfZoGG",
        "outputId": "ec6a62a7-d904-438a-c659-334e7e8ac52b"
      },
      "outputs": [
        {
          "name": "stdout",
          "output_type": "stream",
          "text": [
            "Mean SSIM: 0.8772565839737205\n"
          ]
        }
      ],
      "source": [
        "# Calculate SSIM\n",
        "ssim_scores = []\n",
        "for i in range(len(x_test)):\n",
        "    score = ssim(x_test[i].squeeze(), decoded_imgs[i].squeeze(), data_range=decoded_imgs[i].max() - decoded_imgs[i].min())\n",
        "    ssim_scores.append(score)\n",
        "\n",
        "mean_ssim = np.mean(ssim_scores)\n",
        "print(f'Mean SSIM: {mean_ssim}')"
      ]
    },
    {
      "cell_type": "markdown",
      "metadata": {
        "id": "vD4Aa9M0ZoGG"
      },
      "source": [
        "Model yang telah dibuat mendapatkan nilai rata-rata SSIM yang cukup memuaskan yakni 0.877.\n",
        "\n",
        "- Ini menunjukkan bahwa gambar rekonstruksi sangat mirip dengan gambar asli.\n",
        "- Semakin tinggi nilai SSIM, semakin baik kualitas rekonstruksi."
      ]
    },
    {
      "cell_type": "code",
      "execution_count": null,
      "metadata": {
        "id": "hxd5yl-qZoGH",
        "outputId": "6b76151c-92bd-41ec-b2d0-a1d558b84322"
      },
      "outputs": [
        {
          "name": "stderr",
          "output_type": "stream",
          "text": [
            "C:\\Users\\nperd\\AppData\\Local\\Temp\\ipykernel_31820\\2206492432.py:7: MatplotlibDeprecationWarning: Auto-removal of overlapping axes is deprecated since 3.6 and will be removed two minor releases later; explicitly call ax.remove() as needed.\n",
            "  ax = plt.subplot(2, n, i + 1)\n"
          ]
        },
        {
          "data": {
            "image/png": "[encoded data removed]",
            "text/plain": [
              "<Figure size 2000x400 with 20 Axes>"
            ]
          },
          "metadata": {},
          "output_type": "display_data"
        }
      ],
      "source": [
        "# Display original and decoded images\n",
        "n = 10\n",
        "plt.figure(figsize=(20, 4))\n",
        "for i in range(n):\n",
        "    # Display original\n",
        "    plt.title('Original')\n",
        "    ax = plt.subplot(2, n, i + 1)\n",
        "    plt.imshow(x_test[i].squeeze(), cmap='gray')\n",
        "    ax.get_xaxis().set_visible(False)\n",
        "    ax.get_yaxis().set_visible(False)\n",
        "\n",
        "    # Display reconstruction\n",
        "    plt.title('Reconstructed')\n",
        "    ax = plt.subplot(2, n, i + 1 + n)\n",
        "    plt.imshow(decoded_imgs[i].squeeze(), cmap='gray')\n",
        "    ax.get_xaxis().set_visible(False)\n",
        "    ax.get_yaxis().set_visible(False)\n",
        "plt.show()"
      ]
    },
    {
      "cell_type": "markdown",
      "metadata": {
        "id": "E8foGe6dZoGH"
      },
      "source": [
        "## c\n",
        "\n",
        "modifikasi arsitektur Autoencoder di atas agar mendapatkan representasi Dimension Reduction yang optimal dengan membandingkan hasil Structural Similarity Index (SSIM) nya. Dan selanjutnya lakukan proses tuning hyperparameter agar unjuk kerjanya meningkat. Berikan alasan mengapa modifikasi arsitektur dan metode tuning hyperparameter kalian lebih baik."
      ]
    },
    {
      "cell_type": "code",
      "execution_count": null,
      "metadata": {
        "colab": {
          "base_uri": "https://localhost:8080/"
        },
        "id": "PgcHz4UOUQ7c",
        "outputId": "17a0ddf2-3a62-40d0-ba5f-8b420733c610"
      },
      "outputs": [
        {
          "name": "stdout",
          "output_type": "stream",
          "text": [
            "Trial 90 Complete [00h 01m 23s]\n",
            "val_loss: 0.2433670312166214\n",
            "\n",
            "Best val_loss So Far: 0.24046702682971954\n",
            "Total elapsed time: 00h 38m 04s\n",
            "Best Hyperparameters:\n",
            "<keras_tuner.src.engine.hyperparameters.hyperparameters.HyperParameters object at 0x796115877010>\n"
          ]
        }
      ],
      "source": [
        "import keras_tuner as kt\n",
        "\n",
        "def build_model(hp):\n",
        "    input_img = Input(shape=(28, 28, 1))\n",
        "\n",
        "    # Encoder\n",
        "    x = Conv2D(hp.Int('conv_1_filters', min_value=32, max_value=128, step=32),\n",
        "               (3, 3), activation='relu', padding='same')(input_img)\n",
        "    x = MaxPooling2D((2, 2), padding='same')(x)\n",
        "    x = Conv2D(hp.Int('conv_2_filters', min_value=32, max_value=128, step=32),\n",
        "               (3, 3), activation='relu', padding='same')(x)\n",
        "    x = MaxPooling2D((2, 2), padding='same')(x)\n",
        "    x = Flatten()(x)\n",
        "    x = Dropout(hp.Float('dropout', min_value=0.1, max_value=0.5, step=0.1))(x)\n",
        "    encoded = Dense(128, activation='relu')(x)\n",
        "\n",
        "    # Decoder\n",
        "    x = Dense(7 * 7 * hp.Int('conv_2_filters', min_value=32, max_value=128, step=32),\n",
        "              activation='relu')(encoded)\n",
        "    x = Reshape((7, 7, hp.Int('conv_2_filters', min_value=32, max_value=128, step=32)))(x)\n",
        "    x = UpSampling2D((2, 2))(x)\n",
        "    x = Conv2DTranspose(hp.Int('conv_1_filters', min_value=32, max_value=128, step=32),\n",
        "                        (3, 3), activation='relu', padding='same')(x)\n",
        "    x = UpSampling2D((2, 2))(x)\n",
        "    decoded = Conv2DTranspose(1, (3, 3), activation='sigmoid', padding='same')(x)\n",
        "\n",
        "    autoencoder = Model(input_img, decoded)\n",
        "    autoencoder.compile(optimizer=hp.Choice('optimizer', ['adam', 'rmsprop']),\n",
        "                        loss='binary_crossentropy')\n",
        "\n",
        "    return autoencoder\n",
        "\n",
        "tuner = kt.Hyperband(build_model,\n",
        "                     objective='val_loss',\n",
        "                     max_epochs=50,\n",
        "                     factor=3,\n",
        "                     directory='my_dir',\n",
        "                     project_name='intro_to_kt')\n",
        "\n",
        "tuner.search(x_train, x_train, epochs=50, validation_data=(x_val, x_val))\n",
        "\n",
        "best_model = tuner.get_best_models(num_models=1)[0]\n",
        "best_hyperparameters = tuner.get_best_hyperparameters(num_trials=1)[0]\n",
        "\n",
        "print(\"Best Hyperparameters:\")\n",
        "print(best_hyperparameters)\n"
      ]
    },
    {
      "cell_type": "code",
      "execution_count": null,
      "metadata": {
        "colab": {
          "base_uri": "https://localhost:8080/"
        },
        "id": "L59E5RQ0Wkjw",
        "outputId": "18ecc8ab-ef9e-4103-c980-8dba99e15816"
      },
      "outputs": [
        {
          "name": "stdout",
          "output_type": "stream",
          "text": [
            "Best Hyperparameters:\n",
            "conv_1_filters: 128\n",
            "conv_2_filters: 128\n",
            "dropout: 0.1\n",
            "optimizer: adam\n",
            "tuner/epochs: 50\n",
            "tuner/initial_epoch: 17\n",
            "tuner/bracket: 1\n",
            "tuner/round: 1\n",
            "tuner/trial_id: 0075\n"
          ]
        }
      ],
      "source": [
        "print(\"Best Hyperparameters:\")\n",
        "for param in best_hyperparameters.values:\n",
        "    print(f\"{param}: {best_hyperparameters.get(param)}\")"
      ]
    },
    {
      "cell_type": "code",
      "execution_count": null,
      "metadata": {
        "id": "NxnDwUBUZoGI",
        "outputId": "bef9a984-3173-4087-da96-b1a3de8704b9"
      },
      "outputs": [
        {
          "name": "stdout",
          "output_type": "stream",
          "text": [
            "Epoch 1/80\n",
            "\u001b[1m75/75\u001b[0m \u001b[32m━━━━━━━━━━━━━━━━━━━━\u001b[0m\u001b[37m\u001b[0m \u001b[1m24s\u001b[0m 268ms/step - loss: 0.4146 - val_loss: 0.2879\n",
            "Epoch 2/80\n",
            "\u001b[1m75/75\u001b[0m \u001b[32m━━━━━━━━━━━━━━━━━━━━\u001b[0m\u001b[37m\u001b[0m \u001b[1m19s\u001b[0m 251ms/step - loss: 0.2796 - val_loss: 0.2684\n",
            "Epoch 3/80\n",
            "\u001b[1m75/75\u001b[0m \u001b[32m━━━━━━━━━━━━━━━━━━━━\u001b[0m\u001b[37m\u001b[0m \u001b[1m19s\u001b[0m 252ms/step - loss: 0.2652 - val_loss: 0.2611\n",
            "Epoch 4/80\n",
            "\u001b[1m75/75\u001b[0m \u001b[32m━━━━━━━━━━━━━━━━━━━━\u001b[0m\u001b[37m\u001b[0m \u001b[1m19s\u001b[0m 255ms/step - loss: 0.2595 - val_loss: 0.2575\n",
            "Epoch 5/80\n",
            "\u001b[1m75/75\u001b[0m \u001b[32m━━━━━━━━━━━━━━━━━━━━\u001b[0m\u001b[37m\u001b[0m \u001b[1m19s\u001b[0m 251ms/step - loss: 0.2553 - val_loss: 0.2553\n",
            "Epoch 6/80\n",
            "\u001b[1m75/75\u001b[0m \u001b[32m━━━━━━━━━━━━━━━━━━━━\u001b[0m\u001b[37m\u001b[0m \u001b[1m22s\u001b[0m 290ms/step - loss: 0.2540 - val_loss: 0.2527\n",
            "Epoch 7/80\n",
            "\u001b[1m75/75\u001b[0m \u001b[32m━━━━━━━━━━━━━━━━━━━━\u001b[0m\u001b[37m\u001b[0m \u001b[1m19s\u001b[0m 257ms/step - loss: 0.2515 - val_loss: 0.2509\n",
            "Epoch 8/80\n",
            "\u001b[1m75/75\u001b[0m \u001b[32m━━━━━━━━━━━━━━━━━━━━\u001b[0m\u001b[37m\u001b[0m \u001b[1m20s\u001b[0m 270ms/step - loss: 0.2514 - val_loss: 0.2512\n",
            "Epoch 9/80\n",
            "\u001b[1m75/75\u001b[0m \u001b[32m━━━━━━━━━━━━━━━━━━━━\u001b[0m\u001b[37m\u001b[0m \u001b[1m20s\u001b[0m 260ms/step - loss: 0.2481 - val_loss: 0.2495\n",
            "Epoch 10/80\n",
            "\u001b[1m75/75\u001b[0m \u001b[32m━━━━━━━━━━━━━━━━━━━━\u001b[0m\u001b[37m\u001b[0m \u001b[1m21s\u001b[0m 274ms/step - loss: 0.2484 - val_loss: 0.2491\n",
            "Epoch 11/80\n",
            "\u001b[1m75/75\u001b[0m \u001b[32m━━━━━━━━━━━━━━━━━━━━\u001b[0m\u001b[37m\u001b[0m \u001b[1m21s\u001b[0m 283ms/step - loss: 0.2472 - val_loss: 0.2483\n",
            "Epoch 12/80\n",
            "\u001b[1m75/75\u001b[0m \u001b[32m━━━━━━━━━━━━━━━━━━━━\u001b[0m\u001b[37m\u001b[0m \u001b[1m21s\u001b[0m 275ms/step - loss: 0.2465 - val_loss: 0.2478\n",
            "Epoch 13/80\n",
            "\u001b[1m75/75\u001b[0m \u001b[32m━━━━━━━━━━━━━━━━━━━━\u001b[0m\u001b[37m\u001b[0m \u001b[1m20s\u001b[0m 271ms/step - loss: 0.2456 - val_loss: 0.2472\n",
            "Epoch 14/80\n",
            "\u001b[1m75/75\u001b[0m \u001b[32m━━━━━━━━━━━━━━━━━━━━\u001b[0m\u001b[37m\u001b[0m \u001b[1m19s\u001b[0m 259ms/step - loss: 0.2462 - val_loss: 0.2464\n",
            "Epoch 15/80\n",
            "\u001b[1m75/75\u001b[0m \u001b[32m━━━━━━━━━━━━━━━━━━━━\u001b[0m\u001b[37m\u001b[0m \u001b[1m19s\u001b[0m 256ms/step - loss: 0.2463 - val_loss: 0.2460\n",
            "Epoch 16/80\n",
            "\u001b[1m75/75\u001b[0m \u001b[32m━━━━━━━━━━━━━━━━━━━━\u001b[0m\u001b[37m\u001b[0m \u001b[1m20s\u001b[0m 264ms/step - loss: 0.2457 - val_loss: 0.2459\n",
            "Epoch 17/80\n",
            "\u001b[1m75/75\u001b[0m \u001b[32m━━━━━━━━━━━━━━━━━━━━\u001b[0m\u001b[37m\u001b[0m \u001b[1m19s\u001b[0m 250ms/step - loss: 0.2457 - val_loss: 0.2454\n",
            "Epoch 18/80\n",
            "\u001b[1m75/75\u001b[0m \u001b[32m━━━━━━━━━━━━━━━━━━━━\u001b[0m\u001b[37m\u001b[0m \u001b[1m20s\u001b[0m 259ms/step - loss: 0.2454 - val_loss: 0.2452\n",
            "Epoch 19/80\n",
            "\u001b[1m75/75\u001b[0m \u001b[32m━━━━━━━━━━━━━━━━━━━━\u001b[0m\u001b[37m\u001b[0m \u001b[1m20s\u001b[0m 262ms/step - loss: 0.2460 - val_loss: 0.2449\n",
            "Epoch 20/80\n",
            "\u001b[1m75/75\u001b[0m \u001b[32m━━━━━━━━━━━━━━━━━━━━\u001b[0m\u001b[37m\u001b[0m \u001b[1m19s\u001b[0m 258ms/step - loss: 0.2441 - val_loss: 0.2445\n",
            "Epoch 21/80\n",
            "\u001b[1m75/75\u001b[0m \u001b[32m━━━━━━━━━━━━━━━━━━━━\u001b[0m\u001b[37m\u001b[0m \u001b[1m20s\u001b[0m 263ms/step - loss: 0.2447 - val_loss: 0.2442\n",
            "Epoch 22/80\n",
            "\u001b[1m75/75\u001b[0m \u001b[32m━━━━━━━━━━━━━━━━━━━━\u001b[0m\u001b[37m\u001b[0m \u001b[1m20s\u001b[0m 269ms/step - loss: 0.2429 - val_loss: 0.2441\n",
            "Epoch 23/80\n",
            "\u001b[1m75/75\u001b[0m \u001b[32m━━━━━━━━━━━━━━━━━━━━\u001b[0m\u001b[37m\u001b[0m \u001b[1m19s\u001b[0m 252ms/step - loss: 0.2423 - val_loss: 0.2441\n",
            "Epoch 24/80\n",
            "\u001b[1m75/75\u001b[0m \u001b[32m━━━━━━━━━━━━━━━━━━━━\u001b[0m\u001b[37m\u001b[0m \u001b[1m19s\u001b[0m 257ms/step - loss: 0.2434 - val_loss: 0.2441\n",
            "Epoch 25/80\n",
            "\u001b[1m75/75\u001b[0m \u001b[32m━━━━━━━━━━━━━━━━━━━━\u001b[0m\u001b[37m\u001b[0m \u001b[1m20s\u001b[0m 263ms/step - loss: 0.2426 - val_loss: 0.2435\n",
            "Epoch 26/80\n",
            "\u001b[1m75/75\u001b[0m \u001b[32m━━━━━━━━━━━━━━━━━━━━\u001b[0m\u001b[37m\u001b[0m \u001b[1m19s\u001b[0m 260ms/step - loss: 0.2415 - val_loss: 0.2436\n",
            "Epoch 27/80\n",
            "\u001b[1m75/75\u001b[0m \u001b[32m━━━━━━━━━━━━━━━━━━━━\u001b[0m\u001b[37m\u001b[0m \u001b[1m21s\u001b[0m 282ms/step - loss: 0.2431 - val_loss: 0.2445\n",
            "Epoch 28/80\n",
            "\u001b[1m75/75\u001b[0m \u001b[32m━━━━━━━━━━━━━━━━━━━━\u001b[0m\u001b[37m\u001b[0m \u001b[1m20s\u001b[0m 272ms/step - loss: 0.2422 - val_loss: 0.2432\n",
            "Epoch 29/80\n",
            "\u001b[1m75/75\u001b[0m \u001b[32m━━━━━━━━━━━━━━━━━━━━\u001b[0m\u001b[37m\u001b[0m \u001b[1m20s\u001b[0m 261ms/step - loss: 0.2412 - val_loss: 0.2430\n",
            "Epoch 30/80\n",
            "\u001b[1m75/75\u001b[0m \u001b[32m━━━━━━━━━━━━━━━━━━━━\u001b[0m\u001b[37m\u001b[0m \u001b[1m19s\u001b[0m 257ms/step - loss: 0.2422 - val_loss: 0.2429\n",
            "Epoch 31/80\n",
            "\u001b[1m75/75\u001b[0m \u001b[32m━━━━━━━━━━━━━━━━━━━━\u001b[0m\u001b[37m\u001b[0m \u001b[1m19s\u001b[0m 256ms/step - loss: 0.2413 - val_loss: 0.2428\n",
            "Epoch 32/80\n",
            "\u001b[1m75/75\u001b[0m \u001b[32m━━━━━━━━━━━━━━━━━━━━\u001b[0m\u001b[37m\u001b[0m \u001b[1m20s\u001b[0m 266ms/step - loss: 0.2433 - val_loss: 0.2429\n",
            "Epoch 33/80\n",
            "\u001b[1m75/75\u001b[0m \u001b[32m━━━━━━━━━━━━━━━━━━━━\u001b[0m\u001b[37m\u001b[0m \u001b[1m19s\u001b[0m 259ms/step - loss: 0.2417 - val_loss: 0.2426\n",
            "Epoch 34/80\n",
            "\u001b[1m75/75\u001b[0m \u001b[32m━━━━━━━━━━━━━━━━━━━━\u001b[0m\u001b[37m\u001b[0m \u001b[1m19s\u001b[0m 257ms/step - loss: 0.2409 - val_loss: 0.2428\n",
            "Epoch 35/80\n",
            "\u001b[1m75/75\u001b[0m \u001b[32m━━━━━━━━━━━━━━━━━━━━\u001b[0m\u001b[37m\u001b[0m \u001b[1m18s\u001b[0m 243ms/step - loss: 0.2420 - val_loss: 0.2423\n",
            "Epoch 36/80\n",
            "\u001b[1m75/75\u001b[0m \u001b[32m━━━━━━━━━━━━━━━━━━━━\u001b[0m\u001b[37m\u001b[0m \u001b[1m20s\u001b[0m 268ms/step - loss: 0.2394 - val_loss: 0.2423\n",
            "Epoch 37/80\n",
            "\u001b[1m75/75\u001b[0m \u001b[32m━━━━━━━━━━━━━━━━━━━━\u001b[0m\u001b[37m\u001b[0m \u001b[1m20s\u001b[0m 263ms/step - loss: 0.2404 - val_loss: 0.2422\n",
            "Epoch 38/80\n",
            "\u001b[1m75/75\u001b[0m \u001b[32m━━━━━━━━━━━━━━━━━━━━\u001b[0m\u001b[37m\u001b[0m \u001b[1m19s\u001b[0m 250ms/step - loss: 0.2412 - val_loss: 0.2423\n",
            "Epoch 39/80\n",
            "\u001b[1m75/75\u001b[0m \u001b[32m━━━━━━━━━━━━━━━━━━━━\u001b[0m\u001b[37m\u001b[0m \u001b[1m20s\u001b[0m 260ms/step - loss: 0.2400 - val_loss: 0.2422\n",
            "Epoch 40/80\n",
            "\u001b[1m75/75\u001b[0m \u001b[32m━━━━━━━━━━━━━━━━━━━━\u001b[0m\u001b[37m\u001b[0m \u001b[1m21s\u001b[0m 286ms/step - loss: 0.2394 - val_loss: 0.2418\n",
            "Epoch 41/80\n",
            "\u001b[1m75/75\u001b[0m \u001b[32m━━━━━━━━━━━━━━━━━━━━\u001b[0m\u001b[37m\u001b[0m \u001b[1m20s\u001b[0m 264ms/step - loss: 0.2403 - val_loss: 0.2423\n",
            "Epoch 42/80\n",
            "\u001b[1m75/75\u001b[0m \u001b[32m━━━━━━━━━━━━━━━━━━━━\u001b[0m\u001b[37m\u001b[0m \u001b[1m18s\u001b[0m 245ms/step - loss: 0.2413 - val_loss: 0.2419\n",
            "Epoch 43/80\n",
            "\u001b[1m75/75\u001b[0m \u001b[32m━━━━━━━━━━━━━━━━━━━━\u001b[0m\u001b[37m\u001b[0m \u001b[1m19s\u001b[0m 255ms/step - loss: 0.2390 - val_loss: 0.2417\n",
            "Epoch 44/80\n",
            "\u001b[1m75/75\u001b[0m \u001b[32m━━━━━━━━━━━━━━━━━━━━\u001b[0m\u001b[37m\u001b[0m \u001b[1m18s\u001b[0m 245ms/step - loss: 0.2406 - val_loss: 0.2418\n",
            "Epoch 45/80\n",
            "\u001b[1m75/75\u001b[0m \u001b[32m━━━━━━━━━━━━━━━━━━━━\u001b[0m\u001b[37m\u001b[0m \u001b[1m19s\u001b[0m 246ms/step - loss: 0.2398 - val_loss: 0.2417\n",
            "Epoch 46/80\n",
            "\u001b[1m75/75\u001b[0m \u001b[32m━━━━━━━━━━━━━━━━━━━━\u001b[0m\u001b[37m\u001b[0m \u001b[1m19s\u001b[0m 259ms/step - loss: 0.2391 - val_loss: 0.2420\n",
            "Epoch 47/80\n",
            "\u001b[1m75/75\u001b[0m \u001b[32m━━━━━━━━━━━━━━━━━━━━\u001b[0m\u001b[37m\u001b[0m \u001b[1m19s\u001b[0m 251ms/step - loss: 0.2400 - val_loss: 0.2415\n",
            "Epoch 48/80\n",
            "\u001b[1m75/75\u001b[0m \u001b[32m━━━━━━━━━━━━━━━━━━━━\u001b[0m\u001b[37m\u001b[0m \u001b[1m19s\u001b[0m 255ms/step - loss: 0.2400 - val_loss: 0.2416\n",
            "Epoch 49/80\n",
            "\u001b[1m75/75\u001b[0m \u001b[32m━━━━━━━━━━━━━━━━━━━━\u001b[0m\u001b[37m\u001b[0m \u001b[1m20s\u001b[0m 271ms/step - loss: 0.2394 - val_loss: 0.2416\n",
            "Epoch 50/80\n",
            "\u001b[1m75/75\u001b[0m \u001b[32m━━━━━━━━━━━━━━━━━━━━\u001b[0m\u001b[37m\u001b[0m \u001b[1m20s\u001b[0m 271ms/step - loss: 0.2390 - val_loss: 0.2414\n",
            "Epoch 51/80\n",
            "\u001b[1m75/75\u001b[0m \u001b[32m━━━━━━━━━━━━━━━━━━━━\u001b[0m\u001b[37m\u001b[0m \u001b[1m19s\u001b[0m 256ms/step - loss: 0.2399 - val_loss: 0.2414\n",
            "Epoch 52/80\n",
            "\u001b[1m75/75\u001b[0m \u001b[32m━━━━━━━━━━━━━━━━━━━━\u001b[0m\u001b[37m\u001b[0m \u001b[1m20s\u001b[0m 271ms/step - loss: 0.2396 - val_loss: 0.2413\n",
            "Epoch 53/80\n",
            "\u001b[1m75/75\u001b[0m \u001b[32m━━━━━━━━━━━━━━━━━━━━\u001b[0m\u001b[37m\u001b[0m \u001b[1m19s\u001b[0m 253ms/step - loss: 0.2396 - val_loss: 0.2416\n",
            "Epoch 54/80\n",
            "\u001b[1m75/75\u001b[0m \u001b[32m━━━━━━━━━━━━━━━━━━━━\u001b[0m\u001b[37m\u001b[0m \u001b[1m18s\u001b[0m 242ms/step - loss: 0.2394 - val_loss: 0.2412\n",
            "Epoch 55/80\n",
            "\u001b[1m75/75\u001b[0m \u001b[32m━━━━━━━━━━━━━━━━━━━━\u001b[0m\u001b[37m\u001b[0m \u001b[1m18s\u001b[0m 246ms/step - loss: 0.2399 - val_loss: 0.2412\n",
            "Epoch 56/80\n",
            "\u001b[1m75/75\u001b[0m \u001b[32m━━━━━━━━━━━━━━━━━━━━\u001b[0m\u001b[37m\u001b[0m \u001b[1m19s\u001b[0m 248ms/step - loss: 0.2379 - val_loss: 0.2411\n",
            "Epoch 57/80\n",
            "\u001b[1m75/75\u001b[0m \u001b[32m━━━━━━━━━━━━━━━━━━━━\u001b[0m\u001b[37m\u001b[0m \u001b[1m20s\u001b[0m 268ms/step - loss: 0.2380 - val_loss: 0.2414\n",
            "Epoch 58/80\n",
            "\u001b[1m75/75\u001b[0m \u001b[32m━━━━━━━━━━━━━━━━━━━━\u001b[0m\u001b[37m\u001b[0m \u001b[1m19s\u001b[0m 252ms/step - loss: 0.2388 - val_loss: 0.2411\n",
            "Epoch 59/80\n",
            "\u001b[1m75/75\u001b[0m \u001b[32m━━━━━━━━━━━━━━━━━━━━\u001b[0m\u001b[37m\u001b[0m \u001b[1m19s\u001b[0m 254ms/step - loss: 0.2390 - val_loss: 0.2411\n",
            "Epoch 60/80\n",
            "\u001b[1m75/75\u001b[0m \u001b[32m━━━━━━━━━━━━━━━━━━━━\u001b[0m\u001b[37m\u001b[0m \u001b[1m19s\u001b[0m 247ms/step - loss: 0.2388 - val_loss: 0.2412\n",
            "Epoch 61/80\n",
            "\u001b[1m75/75\u001b[0m \u001b[32m━━━━━━━━━━━━━━━━━━━━\u001b[0m\u001b[37m\u001b[0m \u001b[1m18s\u001b[0m 243ms/step - loss: 0.2387 - val_loss: 0.2412\n",
            "Epoch 62/80\n",
            "\u001b[1m75/75\u001b[0m \u001b[32m━━━━━━━━━━━━━━━━━━━━\u001b[0m\u001b[37m\u001b[0m \u001b[1m20s\u001b[0m 269ms/step - loss: 0.2386 - val_loss: 0.2411\n",
            "Epoch 63/80\n",
            "\u001b[1m75/75\u001b[0m \u001b[32m━━━━━━━━━━━━━━━━━━━━\u001b[0m\u001b[37m\u001b[0m \u001b[1m18s\u001b[0m 242ms/step - loss: 0.2388 - val_loss: 0.2412\n",
            "Epoch 64/80\n",
            "\u001b[1m75/75\u001b[0m \u001b[32m━━━━━━━━━━━━━━━━━━━━\u001b[0m\u001b[37m\u001b[0m \u001b[1m18s\u001b[0m 242ms/step - loss: 0.2378 - val_loss: 0.2410\n",
            "Epoch 65/80\n",
            "\u001b[1m75/75\u001b[0m \u001b[32m━━━━━━━━━━━━━━━━━━━━\u001b[0m\u001b[37m\u001b[0m \u001b[1m19s\u001b[0m 253ms/step - loss: 0.2386 - val_loss: 0.2408\n",
            "Epoch 66/80\n",
            "\u001b[1m75/75\u001b[0m \u001b[32m━━━━━━━━━━━━━━━━━━━━\u001b[0m\u001b[37m\u001b[0m \u001b[1m18s\u001b[0m 243ms/step - loss: 0.2394 - val_loss: 0.2411\n",
            "Epoch 67/80\n",
            "\u001b[1m75/75\u001b[0m \u001b[32m━━━━━━━━━━━━━━━━━━━━\u001b[0m\u001b[37m\u001b[0m \u001b[1m18s\u001b[0m 242ms/step - loss: 0.2378 - val_loss: 0.2412\n",
            "Epoch 68/80\n",
            "\u001b[1m75/75\u001b[0m \u001b[32m━━━━━━━━━━━━━━━━━━━━\u001b[0m\u001b[37m\u001b[0m \u001b[1m19s\u001b[0m 250ms/step - loss: 0.2372 - val_loss: 0.2408\n",
            "Epoch 69/80\n",
            "\u001b[1m75/75\u001b[0m \u001b[32m━━━━━━━━━━━━━━━━━━━━\u001b[0m\u001b[37m\u001b[0m \u001b[1m19s\u001b[0m 247ms/step - loss: 0.2371 - val_loss: 0.2409\n",
            "Epoch 70/80\n",
            "\u001b[1m75/75\u001b[0m \u001b[32m━━━━━━━━━━━━━━━━━━━━\u001b[0m\u001b[37m\u001b[0m \u001b[1m19s\u001b[0m 247ms/step - loss: 0.2393 - val_loss: 0.2408\n",
            "Epoch 71/80\n",
            "\u001b[1m75/75\u001b[0m \u001b[32m━━━━━━━━━━━━━━━━━━━━\u001b[0m\u001b[37m\u001b[0m \u001b[1m19s\u001b[0m 249ms/step - loss: 0.2390 - val_loss: 0.2407\n",
            "Epoch 72/80\n",
            "\u001b[1m75/75\u001b[0m \u001b[32m━━━━━━━━━━━━━━━━━━━━\u001b[0m\u001b[37m\u001b[0m \u001b[1m19s\u001b[0m 257ms/step - loss: 0.2382 - val_loss: 0.2409\n",
            "Epoch 73/80\n",
            "\u001b[1m75/75\u001b[0m \u001b[32m━━━━━━━━━━━━━━━━━━━━\u001b[0m\u001b[37m\u001b[0m \u001b[1m19s\u001b[0m 248ms/step - loss: 0.2382 - val_loss: 0.2410\n",
            "Epoch 74/80\n",
            "\u001b[1m75/75\u001b[0m \u001b[32m━━━━━━━━━━━━━━━━━━━━\u001b[0m\u001b[37m\u001b[0m \u001b[1m19s\u001b[0m 252ms/step - loss: 0.2388 - val_loss: 0.2408\n",
            "Epoch 75/80\n",
            "\u001b[1m75/75\u001b[0m \u001b[32m━━━━━━━━━━━━━━━━━━━━\u001b[0m\u001b[37m\u001b[0m \u001b[1m19s\u001b[0m 257ms/step - loss: 0.2380 - val_loss: 0.2406\n",
            "Epoch 76/80\n",
            "\u001b[1m75/75\u001b[0m \u001b[32m━━━━━━━━━━━━━━━━━━━━\u001b[0m\u001b[37m\u001b[0m \u001b[1m19s\u001b[0m 248ms/step - loss: 0.2376 - val_loss: 0.2406\n",
            "Epoch 77/80\n",
            "\u001b[1m75/75\u001b[0m \u001b[32m━━━━━━━━━━━━━━━━━━━━\u001b[0m\u001b[37m\u001b[0m \u001b[1m19s\u001b[0m 250ms/step - loss: 0.2378 - val_loss: 0.2408\n",
            "Epoch 78/80\n",
            "\u001b[1m75/75\u001b[0m \u001b[32m━━━━━━━━━━━━━━━━━━━━\u001b[0m\u001b[37m\u001b[0m \u001b[1m19s\u001b[0m 258ms/step - loss: 0.2364 - val_loss: 0.2407\n",
            "Epoch 79/80\n",
            "\u001b[1m75/75\u001b[0m \u001b[32m━━━━━━━━━━━━━━━━━━━━\u001b[0m\u001b[37m\u001b[0m \u001b[1m19s\u001b[0m 251ms/step - loss: 0.2372 - val_loss: 0.2405\n",
            "Epoch 80/80\n",
            "\u001b[1m75/75\u001b[0m \u001b[32m━━━━━━━━━━━━━━━━━━━━\u001b[0m\u001b[37m\u001b[0m \u001b[1m19s\u001b[0m 249ms/step - loss: 0.2367 - val_loss: 0.2406\n",
            "\u001b[1m38/38\u001b[0m \u001b[32m━━━━━━━━━━━━━━━━━━━━\u001b[0m\u001b[37m\u001b[0m \u001b[1m2s\u001b[0m 37ms/step\n"
          ]
        }
      ],
      "source": [
        "# Encoder\n",
        "input_img = Input(shape=(28, 28, 1))\n",
        "x = Conv2D(128, (3, 3), activation='relu', padding='same')(input_img)\n",
        "x = MaxPooling2D((2, 2), padding='same')(x)\n",
        "x = Conv2D(128, (3, 3), activation='relu', padding='same')(x)\n",
        "x = MaxPooling2D((2, 2), padding='same')(x)\n",
        "x = Flatten()(x)\n",
        "x = Dropout(0.1)(x)\n",
        "encoded = Dense(128, activation='relu')(x)\n",
        "\n",
        "# Decoder\n",
        "x = Dense(7 * 7 * 128, activation='relu')(encoded)\n",
        "x = Reshape((7, 7, 128))(x)\n",
        "x = UpSampling2D((2, 2))(x)\n",
        "x = Conv2DTranspose(128, (3, 3), activation='relu', padding='same')(x)\n",
        "x = UpSampling2D((2, 2))(x)\n",
        "decoded = Conv2DTranspose(1, (3, 3), activation='sigmoid', padding='same')(x)\n",
        "\n",
        "# Autoencoder Model\n",
        "autoencoder = Model(input_img, decoded)\n",
        "autoencoder.compile(optimizer='adam', loss='binary_crossentropy')\n",
        "\n",
        "# Train the model\n",
        "history = autoencoder.fit(x_train, x_train,\n",
        "                          epochs=80,\n",
        "                          batch_size=128,\n",
        "                          shuffle=True,\n",
        "                          validation_data=(x_val, x_val))\n",
        "\n",
        "# Evaluate the model on test set\n",
        "decoded_imgs = autoencoder.predict(x_test)"
      ]
    },
    {
      "cell_type": "code",
      "execution_count": null,
      "metadata": {
        "id": "8K8HT2biZoGI",
        "outputId": "c8075bf7-de6f-40b6-f1f4-557810d25c62"
      },
      "outputs": [
        {
          "name": "stdout",
          "output_type": "stream",
          "text": [
            "Mean SSIM: 0.8872532565252164\n"
          ]
        }
      ],
      "source": [
        "# Calculate SSIM\n",
        "ssim_scores = []\n",
        "for i in range(len(x_test)):\n",
        "    score = ssim(x_test[i].squeeze(), decoded_imgs[i].squeeze(), data_range=decoded_imgs[i].max() - decoded_imgs[i].min())\n",
        "    ssim_scores.append(score)\n",
        "\n",
        "mean_ssim = np.mean(ssim_scores)\n",
        "print(f'Mean SSIM: {mean_ssim}')"
      ]
    },
    {
      "cell_type": "markdown",
      "metadata": {
        "id": "Nf6iBE_zZoGJ"
      },
      "source": [
        "Perubahan yang dilakukan ke model ini yakni pada:\n",
        "\n",
        "- **Penambahan dropout** : Dropout 0.1 membantu mengurangi overfitting dengan mematikan sebagian neuron selama pelatihan.\n",
        "- **Pemakaian Conv2DTranspose** : Dibandingkan dengan metode upsampling sederhana seperti UpSampling2D yang mengulang piksel-piksel dalam grid tanpa belajar pola, Conv2DTranspose mempelajari pola dalam data dan menghasilkan rekonstruksi yang lebih baik dan lebih halus.\n",
        "- **Penambahan filter**: Penambahan jumlah filter membantu model menangkap lebih banyak fitur dari gambar."
      ]
    }
  ],
  "metadata": {
    "accelerator": "GPU",
    "colab": {
      "gpuType": "T4",
      "provenance": [],
      "toc_visible": true
    },
    "kernelspec": {
      "display_name": "Python 3",
      "name": "python3"
    },
    "language_info": {
      "codemirror_mode": {
        "name": "ipython",
        "version": 3
      },
      "file_extension": ".py",
      "mimetype": "text/x-python",
      "name": "python",
      "nbconvert_exporter": "python",
      "pygments_lexer": "ipython3",
      "version": "3.11.5"
    }
  },
  "nbformat": 4,
  "nbformat_minor": 0
}